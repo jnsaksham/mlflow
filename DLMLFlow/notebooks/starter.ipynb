{
 "cells": [
  {
   "cell_type": "markdown",
   "metadata": {},
   "source": [
    "## ANN MLFlow Implementation"
   ]
  },
  {
   "cell_type": "markdown",
   "metadata": {},
   "source": [
    "### Compare runs, choose a model and deploy it to a REST API\n",
    "- Run a hyperparameter sweep on the training script\n",
    "- Compare the results of the runs in the MLFLow UI\n",
    "- Choose the best run and register it as a model\n",
    "- Deploy the final model a REST API\n",
    "- Build a container image suitable for deployment on cloud"
   ]
  },
  {
   "cell_type": "code",
   "execution_count": 2,
   "metadata": {},
   "outputs": [],
   "source": [
    "import os\n",
    "import tensorflow as tf\n",
    "from tensorflow import keras\n",
    "import numpy as np\n",
    "import pandas as pd\n",
    "from hyperopt import STATUS_OK, Trials, fmin, hp, tpe\n",
    "from sklearn.metrics import mean_squared_error\n",
    "from sklearn.model_selection import train_test_split\n",
    "import mlflow\n",
    "from mlflow.models import infer_signature"
   ]
  },
  {
   "cell_type": "code",
   "execution_count": 3,
   "metadata": {},
   "outputs": [
    {
     "data": {
      "text/html": [
       "<div>\n",
       "<style scoped>\n",
       "    .dataframe tbody tr th:only-of-type {\n",
       "        vertical-align: middle;\n",
       "    }\n",
       "\n",
       "    .dataframe tbody tr th {\n",
       "        vertical-align: top;\n",
       "    }\n",
       "\n",
       "    .dataframe thead th {\n",
       "        text-align: right;\n",
       "    }\n",
       "</style>\n",
       "<table border=\"1\" class=\"dataframe\">\n",
       "  <thead>\n",
       "    <tr style=\"text-align: right;\">\n",
       "      <th></th>\n",
       "      <th>fixed acidity</th>\n",
       "      <th>volatile acidity</th>\n",
       "      <th>citric acid</th>\n",
       "      <th>residual sugar</th>\n",
       "      <th>chlorides</th>\n",
       "      <th>free sulfur dioxide</th>\n",
       "      <th>total sulfur dioxide</th>\n",
       "      <th>density</th>\n",
       "      <th>pH</th>\n",
       "      <th>sulphates</th>\n",
       "      <th>alcohol</th>\n",
       "      <th>quality</th>\n",
       "    </tr>\n",
       "  </thead>\n",
       "  <tbody>\n",
       "    <tr>\n",
       "      <th>0</th>\n",
       "      <td>7.0</td>\n",
       "      <td>0.27</td>\n",
       "      <td>0.36</td>\n",
       "      <td>20.7</td>\n",
       "      <td>0.045</td>\n",
       "      <td>45.0</td>\n",
       "      <td>170.0</td>\n",
       "      <td>1.0010</td>\n",
       "      <td>3.00</td>\n",
       "      <td>0.45</td>\n",
       "      <td>8.8</td>\n",
       "      <td>6</td>\n",
       "    </tr>\n",
       "    <tr>\n",
       "      <th>1</th>\n",
       "      <td>6.3</td>\n",
       "      <td>0.30</td>\n",
       "      <td>0.34</td>\n",
       "      <td>1.6</td>\n",
       "      <td>0.049</td>\n",
       "      <td>14.0</td>\n",
       "      <td>132.0</td>\n",
       "      <td>0.9940</td>\n",
       "      <td>3.30</td>\n",
       "      <td>0.49</td>\n",
       "      <td>9.5</td>\n",
       "      <td>6</td>\n",
       "    </tr>\n",
       "    <tr>\n",
       "      <th>2</th>\n",
       "      <td>8.1</td>\n",
       "      <td>0.28</td>\n",
       "      <td>0.40</td>\n",
       "      <td>6.9</td>\n",
       "      <td>0.050</td>\n",
       "      <td>30.0</td>\n",
       "      <td>97.0</td>\n",
       "      <td>0.9951</td>\n",
       "      <td>3.26</td>\n",
       "      <td>0.44</td>\n",
       "      <td>10.1</td>\n",
       "      <td>6</td>\n",
       "    </tr>\n",
       "    <tr>\n",
       "      <th>3</th>\n",
       "      <td>7.2</td>\n",
       "      <td>0.23</td>\n",
       "      <td>0.32</td>\n",
       "      <td>8.5</td>\n",
       "      <td>0.058</td>\n",
       "      <td>47.0</td>\n",
       "      <td>186.0</td>\n",
       "      <td>0.9956</td>\n",
       "      <td>3.19</td>\n",
       "      <td>0.40</td>\n",
       "      <td>9.9</td>\n",
       "      <td>6</td>\n",
       "    </tr>\n",
       "    <tr>\n",
       "      <th>4</th>\n",
       "      <td>7.2</td>\n",
       "      <td>0.23</td>\n",
       "      <td>0.32</td>\n",
       "      <td>8.5</td>\n",
       "      <td>0.058</td>\n",
       "      <td>47.0</td>\n",
       "      <td>186.0</td>\n",
       "      <td>0.9956</td>\n",
       "      <td>3.19</td>\n",
       "      <td>0.40</td>\n",
       "      <td>9.9</td>\n",
       "      <td>6</td>\n",
       "    </tr>\n",
       "  </tbody>\n",
       "</table>\n",
       "</div>"
      ],
      "text/plain": [
       "   fixed acidity  volatile acidity  citric acid  residual sugar  chlorides  \\\n",
       "0            7.0              0.27         0.36            20.7      0.045   \n",
       "1            6.3              0.30         0.34             1.6      0.049   \n",
       "2            8.1              0.28         0.40             6.9      0.050   \n",
       "3            7.2              0.23         0.32             8.5      0.058   \n",
       "4            7.2              0.23         0.32             8.5      0.058   \n",
       "\n",
       "   free sulfur dioxide  total sulfur dioxide  density    pH  sulphates  \\\n",
       "0                 45.0                 170.0   1.0010  3.00       0.45   \n",
       "1                 14.0                 132.0   0.9940  3.30       0.49   \n",
       "2                 30.0                  97.0   0.9951  3.26       0.44   \n",
       "3                 47.0                 186.0   0.9956  3.19       0.40   \n",
       "4                 47.0                 186.0   0.9956  3.19       0.40   \n",
       "\n",
       "   alcohol  quality  \n",
       "0      8.8        6  \n",
       "1      9.5        6  \n",
       "2     10.1        6  \n",
       "3      9.9        6  \n",
       "4      9.9        6  "
      ]
     },
     "execution_count": 3,
     "metadata": {},
     "output_type": "execute_result"
    }
   ],
   "source": [
    "# load the dataset from the url\n",
    "# Get the path to the dataset relative to the notebook location\n",
    "dataset_path = os.path.join(os.pardir, 'dataset', 'wine-quality.csv')\n",
    "data = pd.read_csv(\n",
    "    dataset_path,\n",
    "    sep=\";\",\n",
    "    )\n",
    "data.head()[:5]"
   ]
  },
  {
   "cell_type": "code",
   "execution_count": 4,
   "metadata": {},
   "outputs": [],
   "source": [
    "# Split into train, test and validation sets\n",
    "train_data, test_data = train_test_split(data, test_size=0.25, random_state=42)\n",
    "\n",
    "# Define the input features\n",
    "train_x = train_data.drop(columns=['quality']).values\n",
    "train_y = train_data['quality'].values\n",
    "\n",
    "test_x = test_data.drop(columns=['quality']).values\n",
    "test_y = test_data['quality'].values\n",
    "\n",
    "# Create val set from train set\n",
    "train_x, val_x, train_y, val_y = train_test_split(train_x, train_y, test_size=0.2, random_state=42)\n"
   ]
  },
  {
   "cell_type": "code",
   "execution_count": 5,
   "metadata": {},
   "outputs": [],
   "source": [
    "signature = infer_signature(train_x, train_y)"
   ]
  },
  {
   "cell_type": "code",
   "execution_count": 6,
   "metadata": {},
   "outputs": [],
   "source": [
    "def train_model(\n",
    "        params,\n",
    "        epochs,\n",
    "        train_x,\n",
    "        train_y,\n",
    "        val_x,\n",
    "        val_y,\n",
    "        test_x,\n",
    "        test_y,\n",
    "        ):\n",
    "    \n",
    "    # Define model architecture\n",
    "    mean = np.mean(train_x, axis=0)\n",
    "    var = np.var(train_x, axis=0)\n",
    "\n",
    "    model = keras.Sequential(\n",
    "        [\n",
    "        keras.Input([train_x.shape[1]]),\n",
    "        keras.layers.Normalization(mean=mean, variance=var),\n",
    "        keras.layers.Dense(64, activation='relu'),\n",
    "        keras.layers.Dense(1),\n",
    "        ]\n",
    "    )\n",
    "\n",
    "    # Compile the model\n",
    "    model.compile(\n",
    "        optimizer=keras.optimizers.SGD(learning_rate=params[\"lr\"],\n",
    "        momentum=params[\"momentum\"]),\n",
    "        loss = keras.losses.MeanSquaredError(),\n",
    "        metrics = [keras.metrics.RootMeanSquaredError()],\n",
    "        )\n",
    "\n",
    "    # Train the model with lr and momentum parameters with ML Flow tracking\n",
    "    with mlflow.start_run(nested=True):\n",
    "        model.fit(\n",
    "            train_x,\n",
    "            train_y,\n",
    "            validation_data=(val_x, val_y),\n",
    "            epochs=epochs,\n",
    "            batch_size=32\n",
    "            )\n",
    "        \n",
    "        # Evaluate the model\n",
    "        eval_result = model.evaluate(test_x, test_y)\n",
    "\n",
    "        eval_rmse = eval_result[1]\n",
    "\n",
    "        # Log the parameters and metrics\n",
    "        mlflow.log_params(params)\n",
    "        mlflow.log_metric(\"rmse\", eval_rmse)\n",
    "        \n",
    "        # Log the model\n",
    "        mlflow.tensorflow.log_model(model, \"ANN model\", signature=signature)\n",
    "\n",
    "        return {\"loss\": eval_rmse, \"status\": STATUS_OK, \"model\": model}\n",
    "        "
   ]
  },
  {
   "cell_type": "code",
   "execution_count": 7,
   "metadata": {},
   "outputs": [],
   "source": [
    "def objective(params):\n",
    "    result = train_model(\n",
    "        params=params,\n",
    "        epochs=3,\n",
    "        train_x=train_x,\n",
    "        train_y=train_y,\n",
    "        val_x=val_x,\n",
    "        val_y=val_y,\n",
    "        test_x=test_x,\n",
    "        test_y=test_y,\n",
    "        )\n",
    "    \n",
    "    return result"
   ]
  },
  {
   "cell_type": "code",
   "execution_count": 8,
   "metadata": {},
   "outputs": [],
   "source": [
    "space={\n",
    "    \"lr\": hp.loguniform(\"lr\", np.log(1e-5), np.log(0.1)),\n",
    "    \"momentum\": hp.uniform(\"momentum\", 0.0, 1.0),\n",
    "}"
   ]
  },
  {
   "cell_type": "code",
   "execution_count": null,
   "metadata": {},
   "outputs": [
    {
     "name": "stderr",
     "output_type": "stream",
     "text": [
      "2025/04/07 14:01:05 INFO mlflow.tracking.fluent: Experiment with name '/wine-quality-ann' does not exist. Creating a new experiment.\n"
     ]
    },
    {
     "name": "stdout",
     "output_type": "stream",
     "text": [
      "  0%|          | 0/4 [00:00<?, ?trial/s, best loss=?]"
     ]
    },
    {
     "name": "stderr",
     "output_type": "stream",
     "text": [
      "WARNING:absl:At this time, the v2.11+ optimizer `tf.keras.optimizers.SGD` runs slowly on M1/M2 Macs, please use the legacy Keras optimizer instead, located at `tf.keras.optimizers.legacy.SGD`.\n",
      "\n"
     ]
    },
    {
     "name": "stdout",
     "output_type": "stream",
     "text": [
      "Epoch 1/3                                            \n",
      "\n",
      " 1/92 [..............................] - ETA: 23s - loss: 25.4661 - root_mean_squared_error: 5.0464\n",
      "74/92 [=======================>......] - ETA: 0s - loss: 1.9069 - root_mean_squared_error: 1.3809  \n",
      "92/92 [==============================] - 0s 2ms/step - loss: 1.7246 - root_mean_squared_error: 1.3133 - val_loss: 1.4207 - val_root_mean_squared_error: 1.1919\n",
      "\n",
      "Epoch 2/3                                            \n",
      "\n",
      " 1/92 [..............................] - ETA: 0s - loss: 1.0660 - root_mean_squared_error: 1.0325\n",
      "92/92 [==============================] - ETA: 0s - loss: 0.6735 - root_mean_squared_error: 0.8207\n",
      "92/92 [==============================] - 0s 825us/step - loss: 0.6735 - root_mean_squared_error: 0.8207 - val_loss: 0.5991 - val_root_mean_squared_error: 0.7740\n",
      "\n",
      "Epoch 3/3                                            \n",
      "\n",
      " 1/92 [..............................] - ETA: 0s - loss: 0.4938 - root_mean_squared_error: 0.7027\n",
      "92/92 [==============================] - 0s 739us/step - loss: 0.5786 - root_mean_squared_error: 0.7607 - val_loss: 0.5724 - val_root_mean_squared_error: 0.7565\n",
      "\n",
      " 1/39 [..............................] - ETA: 0s - loss: 0.8838 - root_mean_squared_error: 0.9401\n",
      "39/39 [==============================] - 0s 580us/step - loss: 0.5669 - root_mean_squared_error: 0.7529\n",
      "\n",
      "  0%|          | 0/4 [00:01<?, ?trial/s, best loss=?]INFO:tensorflow:Assets written to: /var/folders/9h/pgbc9sjs42dbllqj_3mwnd5h0000gn/T/tmp5y10cbgm/model/data/model/assets\n"
     ]
    },
    {
     "name": "stderr",
     "output_type": "stream",
     "text": [
      "INFO:tensorflow:Assets written to: /var/folders/9h/pgbc9sjs42dbllqj_3mwnd5h0000gn/T/tmp5y10cbgm/model/data/model/assets\n",
      "\n"
     ]
    },
    {
     "name": "stdout",
     "output_type": "stream",
     "text": [
      " 25%|██▌       | 1/4 [00:06<00:20,  6.78s/trial, best loss: 0.752930760383606]"
     ]
    },
    {
     "name": "stderr",
     "output_type": "stream",
     "text": [
      "WARNING:absl:At this time, the v2.11+ optimizer `tf.keras.optimizers.SGD` runs slowly on M1/M2 Macs, please use the legacy Keras optimizer instead, located at `tf.keras.optimizers.legacy.SGD`.\n",
      "\n"
     ]
    },
    {
     "name": "stdout",
     "output_type": "stream",
     "text": [
      "Epoch 1/3                                                                     \n",
      "\n",
      " 1/92 [..............................] - ETA: 12s - loss: 37.6714 - root_mean_squared_error: 6.1377\n",
      "92/92 [==============================] - 0s 1ms/step - loss: 7.7784 - root_mean_squared_error: 2.7890 - val_loss: 2.0833 - val_root_mean_squared_error: 1.4434\n",
      "\n",
      "Epoch 2/3                                                                     \n",
      "\n",
      " 1/92 [..............................] - ETA: 0s - loss: 1.6257 - root_mean_squared_error: 1.2750\n",
      "92/92 [==============================] - 0s 602us/step - loss: 1.6637 - root_mean_squared_error: 1.2899 - val_loss: 1.5050 - val_root_mean_squared_error: 1.2268\n",
      "\n",
      "Epoch 3/3                                                                     \n",
      "\n",
      " 1/92 [..............................] - ETA: 0s - loss: 1.1799 - root_mean_squared_error: 1.0862\n",
      "92/92 [==============================] - 0s 613us/step - loss: 1.2631 - root_mean_squared_error: 1.1239 - val_loss: 1.2439 - val_root_mean_squared_error: 1.1153\n",
      "\n",
      " 1/39 [..............................] - ETA: 0s - loss: 1.3291 - root_mean_squared_error: 1.1529\n",
      "39/39 [==============================] - 0s 397us/step - loss: 1.3048 - root_mean_squared_error: 1.1423\n",
      "\n",
      " 25%|██▌       | 1/4 [00:07<00:20,  6.78s/trial, best loss: 0.752930760383606]INFO:tensorflow:Assets written to: /var/folders/9h/pgbc9sjs42dbllqj_3mwnd5h0000gn/T/tmpvzv7pw20/model/data/model/assets\n"
     ]
    },
    {
     "name": "stderr",
     "output_type": "stream",
     "text": [
      "INFO:tensorflow:Assets written to: /var/folders/9h/pgbc9sjs42dbllqj_3mwnd5h0000gn/T/tmpvzv7pw20/model/data/model/assets\n",
      "\n"
     ]
    },
    {
     "name": "stdout",
     "output_type": "stream",
     "text": [
      " 50%|█████     | 2/4 [00:13<00:14,  7.03s/trial, best loss: 0.752930760383606]"
     ]
    },
    {
     "name": "stderr",
     "output_type": "stream",
     "text": [
      "WARNING:absl:At this time, the v2.11+ optimizer `tf.keras.optimizers.SGD` runs slowly on M1/M2 Macs, please use the legacy Keras optimizer instead, located at `tf.keras.optimizers.legacy.SGD`.\n",
      "\n"
     ]
    },
    {
     "name": "stdout",
     "output_type": "stream",
     "text": [
      "Epoch 1/3                                                                     \n",
      "\n",
      " 1/92 [..............................] - ETA: 13s - loss: 38.7577 - root_mean_squared_error: 6.2256\n",
      "85/92 [==========================>...] - ETA: 0s - loss: 19.7689 - root_mean_squared_error: 4.4462 \n",
      "92/92 [==============================] - 0s 2ms/step - loss: 18.9253 - root_mean_squared_error: 4.3503 - val_loss: 8.2351 - val_root_mean_squared_error: 2.8697\n",
      "\n",
      "Epoch 2/3                                                                     \n",
      "\n",
      " 1/92 [..............................] - ETA: 0s - loss: 9.3080 - root_mean_squared_error: 3.0509\n",
      "87/92 [===========================>..] - ETA: 0s - loss: 4.7017 - root_mean_squared_error: 2.1683\n",
      "92/92 [==============================] - 0s 870us/step - loss: 4.6574 - root_mean_squared_error: 2.1581 - val_loss: 2.9600 - val_root_mean_squared_error: 1.7205\n",
      "\n",
      "Epoch 3/3                                                                     \n",
      "\n",
      " 1/92 [..............................] - ETA: 0s - loss: 3.4234 - root_mean_squared_error: 1.8503\n",
      "92/92 [==============================] - 0s 640us/step - loss: 2.3771 - root_mean_squared_error: 1.5418 - val_loss: 2.2184 - val_root_mean_squared_error: 1.4894\n",
      "\n",
      " 1/39 [..............................] - ETA: 0s - loss: 2.5531 - root_mean_squared_error: 1.5978\n",
      "39/39 [==============================] - 0s 548us/step - loss: 2.2304 - root_mean_squared_error: 1.4934\n",
      "\n",
      " 50%|█████     | 2/4 [00:14<00:14,  7.03s/trial, best loss: 0.752930760383606]INFO:tensorflow:Assets written to: /var/folders/9h/pgbc9sjs42dbllqj_3mwnd5h0000gn/T/tmpgwfexcf7/model/data/model/assets\n"
     ]
    },
    {
     "name": "stderr",
     "output_type": "stream",
     "text": [
      "INFO:tensorflow:Assets written to: /var/folders/9h/pgbc9sjs42dbllqj_3mwnd5h0000gn/T/tmpgwfexcf7/model/data/model/assets\n",
      "\n"
     ]
    },
    {
     "name": "stdout",
     "output_type": "stream",
     "text": [
      " 75%|███████▌  | 3/4 [00:20<00:06,  6.99s/trial, best loss: 0.752930760383606]"
     ]
    },
    {
     "name": "stderr",
     "output_type": "stream",
     "text": [
      "WARNING:absl:At this time, the v2.11+ optimizer `tf.keras.optimizers.SGD` runs slowly on M1/M2 Macs, please use the legacy Keras optimizer instead, located at `tf.keras.optimizers.legacy.SGD`.\n",
      "\n"
     ]
    },
    {
     "name": "stdout",
     "output_type": "stream",
     "text": [
      "Epoch 1/3                                                                     \n",
      "\n",
      " 1/92 [..............................] - ETA: 13s - loss: 33.4248 - root_mean_squared_error: 5.7814\n",
      "92/92 [==============================] - 0s 1ms/step - loss: 33.8497 - root_mean_squared_error: 5.8181 - val_loss: 33.2993 - val_root_mean_squared_error: 5.7706\n",
      "\n",
      "Epoch 2/3                                                                     \n",
      "\n",
      " 1/92 [..............................] - ETA: 0s - loss: 31.9286 - root_mean_squared_error: 5.6505\n",
      "92/92 [==============================] - 0s 649us/step - loss: 32.3833 - root_mean_squared_error: 5.6906 - val_loss: 31.8552 - val_root_mean_squared_error: 5.6440\n",
      "\n",
      "Epoch 3/3                                                                     \n",
      "\n",
      " 1/92 [..............................] - ETA: 0s - loss: 33.6739 - root_mean_squared_error: 5.8029\n",
      "92/92 [==============================] - 0s 753us/step - loss: 30.9839 - root_mean_squared_error: 5.5663 - val_loss: 30.4763 - val_root_mean_squared_error: 5.5205\n",
      "\n",
      " 1/39 [..............................] - ETA: 0s - loss: 31.0198 - root_mean_squared_error: 5.5695\n",
      "39/39 [==============================] - 0s 444us/step - loss: 30.4301 - root_mean_squared_error: 5.5163\n",
      "\n",
      " 75%|███████▌  | 3/4 [00:21<00:06,  6.99s/trial, best loss: 0.752930760383606]INFO:tensorflow:Assets written to: /var/folders/9h/pgbc9sjs42dbllqj_3mwnd5h0000gn/T/tmpzaxnpr5b/model/data/model/assets\n"
     ]
    },
    {
     "name": "stderr",
     "output_type": "stream",
     "text": [
      "INFO:tensorflow:Assets written to: /var/folders/9h/pgbc9sjs42dbllqj_3mwnd5h0000gn/T/tmpzaxnpr5b/model/data/model/assets\n",
      "\n"
     ]
    },
    {
     "name": "stdout",
     "output_type": "stream",
     "text": [
      "100%|██████████| 4/4 [00:25<00:00,  6.45s/trial, best loss: 0.752930760383606]\n",
      "INFO:tensorflow:Assets written to: /var/folders/9h/pgbc9sjs42dbllqj_3mwnd5h0000gn/T/tmp2sbi0fer/model/data/model/assets\n"
     ]
    },
    {
     "name": "stderr",
     "output_type": "stream",
     "text": [
      "INFO:tensorflow:Assets written to: /var/folders/9h/pgbc9sjs42dbllqj_3mwnd5h0000gn/T/tmp2sbi0fer/model/data/model/assets\n",
      "\n"
     ]
    },
    {
     "name": "stdout",
     "output_type": "stream",
     "text": [
      "Best run: {'loss': 0.752930760383606, 'status': 'ok', 'model': <keras.src.engine.sequential.Sequential object at 0x1671dfd10>}\n",
      "Best parameters: {'lr': 0.03674647787543968, 'momentum': 0.03069056696318717}\n",
      "Best loss: 0.752930760383606\n"
     ]
    },
    {
     "ename": "",
     "evalue": "",
     "output_type": "error",
     "traceback": [
      "\u001b[1;31mThe Kernel crashed while executing code in the current cell or a previous cell. \n",
      "\u001b[1;31mPlease review the code in the cell(s) to identify a possible cause of the failure. \n",
      "\u001b[1;31mClick <a href='https://aka.ms/vscodeJupyterKernelCrash'>here</a> for more info. \n",
      "\u001b[1;31mView Jupyter <a href='command:jupyter.viewOutput'>log</a> for further details."
     ]
    }
   ],
   "source": [
    "mlflow.set_tracking_uri(os.path.join(os.pardir, \"mlruns\"))\n",
    "mlflow.set_experiment(\"/wine-quality-ann\")\n",
    "with mlflow.start_run():\n",
    "    trials=Trials()\n",
    "    best = fmin(\n",
    "        fn=objective,\n",
    "        space=space,\n",
    "        algo=tpe.suggest,\n",
    "        max_evals=4,\n",
    "        trials=trials\n",
    "    )\n",
    "\n",
    "    # Fetch the details of the best run\n",
    "    best_run = sorted(trials.results, key=lambda x: x['loss'])[0]\n",
    "\n",
    "    # log the best parameters, loss and model\n",
    "    mlflow.log_params(best)\n",
    "    mlflow.log_metric(\"eval_rmse\", best_run['loss'])\n",
    "    mlflow.tensorflow.log_model(\n",
    "        best_run['model'],\n",
    "        \"ANN model\",\n",
    "        signature=signature,\n",
    "        )\n",
    "    \n",
    "    print(f\"Best run: {best_run}\")\n",
    "    print(f\"Best parameters: {best}\")\n",
    "    print(f\"Best loss: {best_run['loss']}\")\n",
    "        "
   ]
  },
  {
   "cell_type": "code",
   "execution_count": null,
   "metadata": {},
   "outputs": [],
   "source": []
  }
 ],
 "metadata": {
  "kernelspec": {
   "display_name": ".venv",
   "language": "python",
   "name": "python3"
  },
  "language_info": {
   "codemirror_mode": {
    "name": "ipython",
    "version": 3
   },
   "file_extension": ".py",
   "mimetype": "text/x-python",
   "name": "python",
   "nbconvert_exporter": "python",
   "pygments_lexer": "ipython3",
   "version": "3.11.4"
  }
 },
 "nbformat": 4,
 "nbformat_minor": 2
}
